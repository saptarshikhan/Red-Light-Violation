{
 "cells": [
  {
   "cell_type": "code",
   "execution_count": 1,
   "id": "34c1115e",
   "metadata": {},
   "outputs": [],
   "source": [
    "import pandas as pd\n",
    "import numpy as np\n",
    "import seaborn as sns\n",
    "import matplotlib.pyplot as plt\n",
    "from sklearn.model_selection import train_test_split\n",
    "from sklearn.preprocessing import StandardScaler\n",
    "from sklearn.impute import SimpleImputer\n",
    "from sklearn.pipeline import Pipeline\n",
    "from sklearn.linear_model import LogisticRegression"
   ]
  },
  {
   "cell_type": "code",
   "execution_count": 2,
   "id": "3887311c",
   "metadata": {},
   "outputs": [],
   "source": [
    "# Load dataset\n",
    "df = pd.read_excel(\"C:/Users/SAPTARSHI/Downloads/red_light_violation.xlsx\")\n",
    "df_cleaned = df.drop(columns=[\"Timestamp\", \"Name\", \"Email\"], errors='ignore')\n",
    "df_cleaned[\"RedLightViolation\"] = df_cleaned[\"Have you ever crossed the street during a red light?\"].map({\"Yes\": 1, \"No\": 0})\n",
    "df_cleaned = df_cleaned.drop(columns=[\"Have you ever crossed the street during a red light?\"], errors='ignore')"
   ]
  },
  {
   "cell_type": "code",
   "execution_count": 13,
   "id": "9c0260c6",
   "metadata": {},
   "outputs": [],
   "source": [
    "# Define column groups\n",
    "demographic_cols = [\"Age Group\", \"Gender\", \"Occupation\", \"Approximate monthly income of the person who violates traffic signals\", \"Education level\"]\n",
    "psychological_cols = [\"How often do your friends describe you as argumentative?\", \"Do you openly express disagreement with your friends?\", \"Do you find yourself getting into arguments when people disagree with you?\", \"Do you get into physical fights more frequently than the average person?\", \"Have you ever been so angry that you broke something?\"]\n",
    "driving_experience_cols = [\"Driving Experience\", \"How many hours a day do you usually drive?\"]\n",
    "traffic_external_cols = [\"In which areas do you think red light violations are more of a problem?\", \"What are the main reasons that make you more likely to cross during a red light?\", \"Do you believe that adding countdown timers to traffic lights would reduce red light violations?\", \"What strategies or policies might make you less likely to run a red light?\"]\n",
    "perception_cols = [\"How do you react when you see someone running a red light?\", \"When do you believe red light violations are most common?\", \"Which type of vehicle is more likely to violate red light?\", \"Which type of intersections do you believe is most prone to red light violations?\", \"What type of public awareness campaign would be most likely to influence your driving behaviour regarding red light running?\"]"
   ]
  },
  {
   "cell_type": "markdown",
   "id": "3520127a",
   "metadata": {},
   "source": [
    "# demographical factors"
   ]
  },
  {
   "cell_type": "code",
   "execution_count": 5,
   "id": "6a8459cc",
   "metadata": {},
   "outputs": [
    {
     "name": "stdout",
     "output_type": "stream",
     "text": [
      "Available columns: Index(['Age Group', 'Gender', 'Occupation',\n",
      "       'Approximate monthly income of the person who violates traffic signals\\n',\n",
      "       'Education level\\n', 'Driving Experience',\n",
      "       'How often do your friends describe you as argumentative?',\n",
      "       'Do you openly express disagreement with your friends?',\n",
      "       'Do you find yourself getting into arguments when people disagree with you?',\n",
      "       'Do you get into physical fights more frequently than the average person?',\n",
      "       'Have you ever been so angry that you broke something?',\n",
      "       'How do you react when you see someone running a red light?',\n",
      "       'How many hours a day do you usually drive?',\n",
      "       'In which areas do you think red light violations are more of a problem ?',\n",
      "       'What are the main reasons that make you more likely to cross during a red light?',\n",
      "       'Do you believe that adding countdown timers to traffic lights would reduce red light violations?\\n',\n",
      "       'What strategies or policies might make you less likely to run a red light ?',\n",
      "       'How often do you cross during a red light ?',\n",
      "       'How many hours a day do you usually drive?.1',\n",
      "       'In which areas do you think red light violations are more of a problem ?.1',\n",
      "       'What are the main reasons that make you more likely to cross during a red light?.1',\n",
      "       'Do you believe that adding countdown timers effect on red light violation?\\n',\n",
      "       'What strategies or policies might make you less likely to run a red light , and which measures do you think would most effectively reduce red light running?',\n",
      "       'When do you believe red light violations are most common?',\n",
      "       'Which type of vehicle is more likely to violate red light?',\n",
      "       'Which type of intersections do you believe is most prone to red light violations?',\n",
      "       'What type of public awareness campaign would be most likely to influence your driving behaviour regarding red light running ?',\n",
      "       'When do you believe red light violations are most common?.1',\n",
      "       'Which type of vehicle is more likely to violate red light?.1',\n",
      "       'Which type of intersections do you believe is most prone to red light violations?.1',\n",
      "       'RedLightViolation'],\n",
      "      dtype='object')\n",
      "Updated columns: Index(['Age Group', 'Gender', 'Occupation',\n",
      "       'Approximate monthly income of the person who violates traffic signals',\n",
      "       'Education level', 'Driving Experience',\n",
      "       'How often do your friends describe you as argumentative?',\n",
      "       'Do you openly express disagreement with your friends?',\n",
      "       'Do you find yourself getting into arguments when people disagree with you?',\n",
      "       'Do you get into physical fights more frequently than the average person?',\n",
      "       'Have you ever been so angry that you broke something?',\n",
      "       'How do you react when you see someone running a red light?',\n",
      "       'How many hours a day do you usually drive?',\n",
      "       'In which areas do you think red light violations are more of a problem ?',\n",
      "       'What are the main reasons that make you more likely to cross during a red light?',\n",
      "       'Do you believe that adding countdown timers to traffic lights would reduce red light violations?',\n",
      "       'What strategies or policies might make you less likely to run a red light ?',\n",
      "       'How often do you cross during a red light ?',\n",
      "       'How many hours a day do you usually drive?.1',\n",
      "       'In which areas do you think red light violations are more of a problem ?.1',\n",
      "       'What are the main reasons that make you more likely to cross during a red light?.1',\n",
      "       'Do you believe that adding countdown timers effect on red light violation?',\n",
      "       'What strategies or policies might make you less likely to run a red light , and which measures do you think would most effectively reduce red light running?',\n",
      "       'When do you believe red light violations are most common?',\n",
      "       'Which type of vehicle is more likely to violate red light?',\n",
      "       'Which type of intersections do you believe is most prone to red light violations?',\n",
      "       'What type of public awareness campaign would be most likely to influence your driving behaviour regarding red light running ?',\n",
      "       'When do you believe red light violations are most common?.1',\n",
      "       'Which type of vehicle is more likely to violate red light?.1',\n",
      "       'Which type of intersections do you believe is most prone to red light violations?.1',\n",
      "       'RedLightViolation'],\n",
      "      dtype='object')\n",
      "Using these demographic columns: ['Age Group', 'Gender', 'Occupation', 'Approximate monthly income of the person who violates traffic signals', 'Education level']\n"
     ]
    }
   ],
   "source": [
    "# Check available columns\n",
    "print(\"Available columns:\", df_cleaned.columns)\n",
    "\n",
    "# Remove spaces and check again\n",
    "df_cleaned.columns = df_cleaned.columns.str.strip()\n",
    "print(\"Updated columns:\", df_cleaned.columns)\n",
    "\n",
    "# Define only existing columns\n",
    "demographic_cols = [\"Age Group\", \"Gender\", \"Occupation\", \n",
    "                    \"Approximate monthly income of the person who violates traffic signals\", \n",
    "                    \"Education level\"]\n",
    "\n",
    "existing_cols = [col for col in demographic_cols if col in df_cleaned.columns]\n",
    "print(f\"Using these demographic columns: {existing_cols}\")"
   ]
  },
  {
   "cell_type": "code",
   "execution_count": 7,
   "id": "451344d4",
   "metadata": {},
   "outputs": [
    {
     "name": "stderr",
     "output_type": "stream",
     "text": [
      "C:\\Users\\SAPTARSHI\\anaconda3\\lib\\site-packages\\sklearn\\impute\\_base.py:49: FutureWarning: Unlike other reduction functions (e.g. `skew`, `kurtosis`), the default behavior of `mode` typically preserves the axis it acts along. In SciPy 1.11.0, this behavior will change: the default value of `keepdims` will become False, the `axis` over which the statistic is taken will be eliminated, and the value None will no longer be accepted. Set `keepdims` to True or False to avoid this warning.\n",
      "  mode = stats.mode(array)\n"
     ]
    }
   ],
   "source": [
    "# Proceed only with available columns\n",
    "X = pd.get_dummies(df_cleaned[existing_cols], drop_first=True)\n",
    "X = pd.DataFrame(SimpleImputer(strategy=\"most_frequent\").fit_transform(X), columns=X.columns)\n",
    "y = df_cleaned[\"RedLightViolation\"]\n"
   ]
  },
  {
   "cell_type": "code",
   "execution_count": 8,
   "id": "95138c24",
   "metadata": {},
   "outputs": [],
   "source": [
    "# Train-test split\n",
    "X_train, X_test, y_train, y_test = train_test_split(X, y, test_size=0.2, random_state=42)\n"
   ]
  },
  {
   "cell_type": "code",
   "execution_count": 16,
   "id": "0dda4d0c",
   "metadata": {},
   "outputs": [
    {
     "data": {
      "text/plain": [
       "Pipeline(steps=[('scaler', StandardScaler()),\n",
       "                ('model', LogisticRegression(max_iter=500))])"
      ]
     },
     "execution_count": 16,
     "metadata": {},
     "output_type": "execute_result"
    }
   ],
   "source": [
    "# Train logistic regression model\n",
    "pipeline = Pipeline([\n",
    "    ('scaler', StandardScaler()),\n",
    "    ('model', LogisticRegression(max_iter=500))\n",
    "])\n",
    "pipeline.fit(X_train, y_train)"
   ]
  },
  {
   "cell_type": "code",
   "execution_count": 10,
   "id": "851243b7",
   "metadata": {},
   "outputs": [],
   "source": [
    "# Extract feature importance (coefficients)\n",
    "coefficients = pipeline.named_steps['model'].coef_[0]\n",
    "feature_importance = pd.DataFrame({\"Feature\": X.columns, \"Coefficient\": coefficients})\n",
    "feature_importance[\"Abs_Coefficient\"] = feature_importance[\"Coefficient\"].abs()\n",
    "feature_importance = feature_importance.sort_values(by=\"Abs_Coefficient\", ascending=False)\n"
   ]
  },
  {
   "cell_type": "code",
   "execution_count": 11,
   "id": "524fe031",
   "metadata": {},
   "outputs": [
    {
     "name": "stdout",
     "output_type": "stream",
     "text": [
      "\n",
      "Most Influential Demographic Factor:\n",
      "                                       Feature  Coefficient  Abs_Coefficient\n",
      "14  Education level_Post -Graduation and above    -0.673414         0.673414\n"
     ]
    }
   ],
   "source": [
    "# Display the most influential parameter\n",
    "print(\"\\nMost Influential Demographic Factor:\")\n",
    "print(feature_importance.head(1))  # Top influencing factor"
   ]
  },
  {
   "cell_type": "code",
   "execution_count": 12,
   "id": "d4fa6560",
   "metadata": {},
   "outputs": [
    {
     "data": {
      "image/png": "[encoded data removed]",
      "text/plain": [
       "<Figure size 800x600 with 1 Axes>"
      ]
     },
     "metadata": {},
     "output_type": "display_data"
    }
   ],
   "source": [
    "# Plot feature importance\n",
    "plt.figure(figsize=(8,6))\n",
    "sns.barplot(data=feature_importance.head(5), x=\"Coefficient\", y=\"Feature\", palette=\"coolwarm\")\n",
    "plt.title(\"Top 5 Most Influential Demographic Factors in Red Light Violation\")\n",
    "plt.xlabel(\"Coefficient Value\")\n",
    "plt.ylabel(\"Feature\")\n",
    "plt.show()"
   ]
  },
  {
   "cell_type": "markdown",
   "id": "78037967",
   "metadata": {},
   "source": [
    "# physological factors"
   ]
  },
  {
   "cell_type": "code",
   "execution_count": 14,
   "id": "3ca7070a",
   "metadata": {},
   "outputs": [
    {
     "name": "stdout",
     "output_type": "stream",
     "text": [
      "Available columns: Index(['Age Group', 'Gender', 'Occupation',\n",
      "       'Approximate monthly income of the person who violates traffic signals',\n",
      "       'Education level', 'Driving Experience',\n",
      "       'How often do your friends describe you as argumentative?',\n",
      "       'Do you openly express disagreement with your friends?',\n",
      "       'Do you find yourself getting into arguments when people disagree with you?',\n",
      "       'Do you get into physical fights more frequently than the average person?',\n",
      "       'Have you ever been so angry that you broke something?',\n",
      "       'How do you react when you see someone running a red light?',\n",
      "       'How many hours a day do you usually drive?',\n",
      "       'In which areas do you think red light violations are more of a problem ?',\n",
      "       'What are the main reasons that make you more likely to cross during a red light?',\n",
      "       'Do you believe that adding countdown timers to traffic lights would reduce red light violations?',\n",
      "       'What strategies or policies might make you less likely to run a red light ?',\n",
      "       'How often do you cross during a red light ?',\n",
      "       'How many hours a day do you usually drive?.1',\n",
      "       'In which areas do you think red light violations are more of a problem ?.1',\n",
      "       'What are the main reasons that make you more likely to cross during a red light?.1',\n",
      "       'Do you believe that adding countdown timers effect on red light violation?',\n",
      "       'What strategies or policies might make you less likely to run a red light , and which measures do you think would most effectively reduce red light running?',\n",
      "       'When do you believe red light violations are most common?',\n",
      "       'Which type of vehicle is more likely to violate red light?',\n",
      "       'Which type of intersections do you believe is most prone to red light violations?',\n",
      "       'What type of public awareness campaign would be most likely to influence your driving behaviour regarding red light running ?',\n",
      "       'When do you believe red light violations are most common?.1',\n",
      "       'Which type of vehicle is more likely to violate red light?.1',\n",
      "       'Which type of intersections do you believe is most prone to red light violations?.1',\n",
      "       'RedLightViolation'],\n",
      "      dtype='object')\n",
      "Updated columns: Index(['Age Group', 'Gender', 'Occupation',\n",
      "       'Approximate monthly income of the person who violates traffic signals',\n",
      "       'Education level', 'Driving Experience',\n",
      "       'How often do your friends describe you as argumentative?',\n",
      "       'Do you openly express disagreement with your friends?',\n",
      "       'Do you find yourself getting into arguments when people disagree with you?',\n",
      "       'Do you get into physical fights more frequently than the average person?',\n",
      "       'Have you ever been so angry that you broke something?',\n",
      "       'How do you react when you see someone running a red light?',\n",
      "       'How many hours a day do you usually drive?',\n",
      "       'In which areas do you think red light violations are more of a problem ?',\n",
      "       'What are the main reasons that make you more likely to cross during a red light?',\n",
      "       'Do you believe that adding countdown timers to traffic lights would reduce red light violations?',\n",
      "       'What strategies or policies might make you less likely to run a red light ?',\n",
      "       'How often do you cross during a red light ?',\n",
      "       'How many hours a day do you usually drive?.1',\n",
      "       'In which areas do you think red light violations are more of a problem ?.1',\n",
      "       'What are the main reasons that make you more likely to cross during a red light?.1',\n",
      "       'Do you believe that adding countdown timers effect on red light violation?',\n",
      "       'What strategies or policies might make you less likely to run a red light , and which measures do you think would most effectively reduce red light running?',\n",
      "       'When do you believe red light violations are most common?',\n",
      "       'Which type of vehicle is more likely to violate red light?',\n",
      "       'Which type of intersections do you believe is most prone to red light violations?',\n",
      "       'What type of public awareness campaign would be most likely to influence your driving behaviour regarding red light running ?',\n",
      "       'When do you believe red light violations are most common?.1',\n",
      "       'Which type of vehicle is more likely to violate red light?.1',\n",
      "       'Which type of intersections do you believe is most prone to red light violations?.1',\n",
      "       'RedLightViolation'],\n",
      "      dtype='object')\n",
      "Using these demographic columns: ['Age Group', 'Gender', 'Occupation', 'Approximate monthly income of the person who violates traffic signals', 'Education level']\n"
     ]
    }
   ],
   "source": [
    "# Check available columns\n",
    "print(\"Available columns:\", df_cleaned.columns)\n",
    "\n",
    "# Remove spaces and check again\n",
    "df_cleaned.columns = df_cleaned.columns.str.strip()\n",
    "print(\"Updated columns:\", df_cleaned.columns)\n",
    "\n",
    "# Define only existing columns\n",
    "psychological_cols = [\"How often do your friends describe you as argumentative?\", \"Do you openly express disagreement with your friends?\", \"Do you find yourself getting into arguments when people disagree with you?\", \"Do you get into physical fights more frequently than the average person?\", \"Have you ever been so angry that you broke something?\"]\n",
    "\n",
    "existing_cols = [col for col in demographic_cols if col in df_cleaned.columns]\n",
    "print(f\"Using these demographic columns: {existing_cols}\")"
   ]
  },
  {
   "cell_type": "code",
   "execution_count": 1,
   "id": "53ae9b28",
   "metadata": {},
   "outputs": [],
   "source": [
    "import os"
   ]
  },
  {
   "cell_type": "code",
   "execution_count": 2,
   "id": "8324a4e2",
   "metadata": {},
   "outputs": [
    {
     "name": "stdout",
     "output_type": "stream",
     "text": [
      "C:\\Users\\SAPTARSHI\n"
     ]
    }
   ],
   "source": [
    "notebook_path=os.getcwd()\n",
    "print(notebook_path)"
   ]
  }
 ],
 "metadata": {
  "kernelspec": {
   "display_name": "Python 3 (ipykernel)",
   "language": "python",
   "name": "python3"
  },
  "language_info": {
   "codemirror_mode": {
    "name": "ipython",
    "version": 3
   },
   "file_extension": ".py",
   "mimetype": "text/x-python",
   "name": "python",
   "nbconvert_exporter": "python",
   "pygments_lexer": "ipython3",
   "version": "3.9.13"
  }
 },
 "nbformat": 4,
 "nbformat_minor": 5
}
